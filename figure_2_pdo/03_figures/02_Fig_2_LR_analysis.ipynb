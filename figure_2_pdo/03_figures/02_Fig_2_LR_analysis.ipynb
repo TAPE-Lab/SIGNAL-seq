{
 "cells": [
  {
   "cell_type": "markdown",
   "metadata": {},
   "source": [
    "## Load env"
   ]
  },
  {
   "cell_type": "code",
   "execution_count": null,
   "metadata": {},
   "outputs": [],
   "source": [
    "# Load packages\n",
    "import scanpy as sc\n",
    "import matplotlib as mpl\n",
    "import seaborn as sns\n",
    "from matplotlib import pyplot as plt\n",
    "import matplotlib.colors as mcolors\n",
    "import pandas as pd\n",
    "import numpy as np\n",
    "import anndata as ad\n",
    "import liana as li\n",
    "import decoupler as dc\n",
    "import omnipath as op "
   ]
  },
  {
   "cell_type": "code",
   "execution_count": null,
   "metadata": {},
   "outputs": [],
   "source": [
    "# Setup the global plotting parameters\n",
    "sc.settings.verbosity = 3             # verbosity: errors (0), warnings (1), info (2), hints (3)\n",
    "sc.logging.print_header()\n",
    "sc.set_figure_params(dpi=100, color_map = \"viridis\", frameon=True, transparent=True,\n",
    "                    dpi_save=800, facecolor=\"None\", format=\"pdf\", figsize=[4,4])\n",
    "\n",
    "sns.set_style(\"whitegrid\", {'axes.grid' : False})\n",
    "\n",
    "# Figure output directory\n",
    "sc.settings.figdir = 'lr_analysis/'\n",
    "\n",
    "# Set seed for reproducibility\n",
    "np.random.seed(0)"
   ]
  },
  {
   "cell_type": "code",
   "execution_count": null,
   "metadata": {},
   "outputs": [],
   "source": [
    "# Color maps\n",
    "colour_dict_sample = {'DMSO_PDO': '#8383FF', \n",
    "               'SN38_PDO': '#531B93',  \n",
    "               'DMSO_PDO_CAF': '#E39097', \n",
    "               'SN38_PDO_CAF':'#941751', \n",
    "               'DMSO_CAF': '#C0C0C0', \n",
    "               'SN38_CAF': '#5E5E5E'}"
   ]
  },
  {
   "cell_type": "code",
   "execution_count": null,
   "metadata": {},
   "outputs": [],
   "source": [
    "# Import data\n",
    "input_file_path_rna = '../02_preprocessing_multimodal/ex0015_pdo_rna_adata.h5ad'  # h5ad file exported from preprocessing pipeline\n",
    "input_file_path_adt = '../02_preprocessing_multimodalex0015_pdo_adt_adata.h5ad'  # h5ad file exported from preprocessing pipeline\n",
    "\n",
    "signal_adata_rna = sc.read_h5ad(input_file_path_rna)\n",
    "signal_adata_adt = sc.read_h5ad(input_file_path_adt)\n",
    "\n",
    "# Inspect data shape\n",
    "print(signal_adata_rna, \": data shape:\", signal_adata_rna.shape)\n",
    "print(signal_adata_adt, \": data shape:\", signal_adata_adt.shape)"
   ]
  },
  {
   "cell_type": "code",
   "execution_count": null,
   "metadata": {},
   "outputs": [],
   "source": [
    "signal_adata_rna.obs_names = signal_adata_rna.obs['barcode_seq'].astype('str') + '_' + signal_adata_rna.obs['sublib_index'].astype('str')\n",
    "signal_adata_adt.obs['barcode_seq'] = signal_adata_adt.obs_names\n",
    "\n",
    "# Make names unique\n",
    "signal_adata_rna.var_names =  signal_adata_rna.var_names.astype(str)\n",
    "signal_adata_rna.var_names_make_unique()\n",
    "\n",
    "raw_adata = signal_adata_rna.raw.to_adata()\n",
    "\n",
    "# Make names unique\n",
    "raw_adata.var_names =  raw_adata.var_names.astype(str)\n",
    "raw_adata.var_names_make_unique()\n",
    "\n",
    "signal_adata_rna.raw = raw_adata\n",
    "\n"
   ]
  },
  {
   "cell_type": "markdown",
   "metadata": {},
   "source": [
    "# Generate the LR matrix for Liana"
   ]
  },
  {
   "cell_type": "code",
   "execution_count": null,
   "metadata": {},
   "outputs": [],
   "source": [
    "# Check avail methods\n",
    "li.mt.show_methods()"
   ]
  },
  {
   "cell_type": "code",
   "execution_count": null,
   "metadata": {},
   "outputs": [],
   "source": [
    "lr_network_df = pd.read_csv('lr_analysis/omni_intercell_network.csv')"
   ]
  },
  {
   "cell_type": "code",
   "execution_count": null,
   "metadata": {},
   "outputs": [],
   "source": [
    "# Filter for sereted molecules\n",
    "lr_network_df_secreted = lr_network_df[lr_network_df['secreted_intercell_source'] == True]\n",
    "lr_network_df_secreted['parent_intercell_source'].value_counts()"
   ]
  },
  {
   "cell_type": "code",
   "execution_count": null,
   "metadata": {},
   "outputs": [],
   "source": [
    "# Filter based on ligand, cell_surface_ligand, secreted_enzyme, secreted_receptor\n",
    "ligand_functional_classes = ['ligand']  # Replace with your list of strings\n",
    "lr_network_df_secreted_ligands = lr_network_df_secreted[lr_network_df_secreted['parent_intercell_source'].isin(ligand_functional_classes)]\n",
    "\n",
    "lr_network_df_secreted_ligands.to_csv('lr_analysis/omni_intercell_network_secreted_ligand_senders.csv')"
   ]
  },
  {
   "cell_type": "code",
   "execution_count": null,
   "metadata": {},
   "outputs": [],
   "source": [
    "lr_network_df_secreted_ligands['parent_intercell_source'].value_counts()"
   ]
  },
  {
   "cell_type": "markdown",
   "metadata": {},
   "source": [
    "## Generate the ULM inferred Regulons"
   ]
  },
  {
   "cell_type": "code",
   "execution_count": null,
   "metadata": {},
   "outputs": [],
   "source": [
    "# All pdo cells\n",
    "pdo_adata = signal_adata_rna[signal_adata_rna.obs['cell_type'].isin(['PDO'])]"
   ]
  },
  {
   "cell_type": "code",
   "execution_count": null,
   "metadata": {},
   "outputs": [],
   "source": [
    "pdo_adata.obs['cell_type_condition'].value_counts()"
   ]
  },
  {
   "cell_type": "code",
   "execution_count": null,
   "metadata": {},
   "outputs": [],
   "source": [
    "# Load the TF regulon network\n",
    "net = dc.get_collectri(organism='human', split_complexes=False)\n",
    "net"
   ]
  },
  {
   "cell_type": "code",
   "execution_count": null,
   "metadata": {},
   "outputs": [],
   "source": [
    "# Run ULM Enrichment Analysis\n",
    "dc.run_ulm(\n",
    "    mat=pdo_adata,\n",
    "    net=net,\n",
    "    source='source',\n",
    "    target='target',\n",
    "    weight='weight',\n",
    "    verbose=True\n",
    ")"
   ]
  },
  {
   "cell_type": "code",
   "execution_count": null,
   "metadata": {},
   "outputs": [],
   "source": [
    "acts = dc.get_acts(pdo_adata, obsm_key='ulm_estimate')\n",
    "acts"
   ]
  },
  {
   "cell_type": "code",
   "execution_count": null,
   "metadata": {},
   "outputs": [],
   "source": [
    "df = dc.rank_sources_groups(acts, groupby='sample_id', reference='DMSO_PDO', method='t-test_overestim_var')\n",
    "df"
   ]
  },
  {
   "cell_type": "code",
   "execution_count": null,
   "metadata": {},
   "outputs": [],
   "source": [
    "df.to_csv('lr_analysis/all_samples_deregulated_TFs_pdo.csv')"
   ]
  },
  {
   "cell_type": "code",
   "execution_count": null,
   "metadata": {},
   "outputs": [],
   "source": [
    "df_mono = dc.rank_sources_groups(acts, groupby='sample_id', reference='DMSO_PDO_CAF', method='t-test_overestim_var')\n",
    "df_mono.to_csv('lr_analysis/all_samples_deregulated_TFs_pdo_caf.csv')"
   ]
  },
  {
   "cell_type": "code",
   "execution_count": null,
   "metadata": {},
   "outputs": [],
   "source": [
    "markers = {\n",
    "    'proCSC': ['LEF1', 'ASCL2', 'SOX9'],\n",
    "    'revCSC': ['YAP1', 'TEAD1', 'SMAD6', 'AP1', 'JUND', 'NFKB1', 'STAT6']\n",
    "}\n",
    "\n",
    "sc.pl.matrixplot(acts, markers, 'sample_id', dendrogram=False, standard_scale='var',\n",
    "                 colorbar_title='Z-scores', cmap='RdBu_r', save='pdo_TF_regulon_activity.png')"
   ]
  },
  {
   "cell_type": "markdown",
   "metadata": {},
   "source": [
    "## Run the LR Liana tool"
   ]
  },
  {
   "cell_type": "code",
   "execution_count": null,
   "metadata": {},
   "outputs": [],
   "source": [
    "# Run rank_aggregate across the individual cultures\n",
    "# Not run as takes a long time\n",
    "#li.mt.rank_aggregate(signal_adata_rna, groupby='cell_type_condition', expr_prop=0.1, verbose=True)"
   ]
  },
  {
   "cell_type": "code",
   "execution_count": null,
   "metadata": {},
   "outputs": [],
   "source": [
    "liana_res_all = pd.read_csv('lr_analysis/ex0015_liana_lr_analysis_all.csv')"
   ]
  },
  {
   "cell_type": "code",
   "execution_count": null,
   "metadata": {},
   "outputs": [],
   "source": [
    "# Filter the list for secreted ligands from the OmniPath database\n",
    "sender_ligands = lr_network_df_secreted_ligands['genesymbol_intercell_source']\n",
    "liana_res_all_ligands = liana_res_all[liana_res_all['ligand_complex'].isin(sender_ligands)]\n",
    "liana_res_all_ligands.to_csv('lr_analysis/ex0015_liana_lr_analysis_all_ligands.csv')"
   ]
  },
  {
   "cell_type": "code",
   "execution_count": null,
   "metadata": {},
   "outputs": [],
   "source": [
    "signal_adata_rna.uns['liana_res'] = liana_res_all_ligands"
   ]
  },
  {
   "cell_type": "markdown",
   "metadata": {},
   "source": [
    "## Extract relevant interactions"
   ]
  },
  {
   "cell_type": "code",
   "execution_count": null,
   "metadata": {},
   "outputs": [],
   "source": [
    "# Isolate relevant sender population\n",
    "cc_interactions_out = ['Fibroblast_DMSO_PDO_CAF', 'PDO_DMSO_PDO_CAF', 'PDO_DMSO_PDO']  # Replace with your list of strings\n",
    "liana_res_all_ligands_filter_out = liana_res_all_ligands[liana_res_all_ligands['source'].isin(cc_interactions_out)]\n",
    "\n",
    "# Isolate interactions that could signal \n",
    "cc_interactions_in = ['PDO_DMSO_PDO_CAF', 'PDO_DMSO_PDO'] \n",
    "liana_res_all_ligands_filter = liana_res_all_ligands_filter_out[liana_res_all_ligands_filter_out['target'].isin(cc_interactions_in)]"
   ]
  },
  {
   "cell_type": "code",
   "execution_count": null,
   "metadata": {},
   "outputs": [],
   "source": [
    "ligand_markers = liana_res_all_ligands_filter['ligand_complex'].unique()"
   ]
  },
  {
   "cell_type": "code",
   "execution_count": null,
   "metadata": {},
   "outputs": [],
   "source": [
    "caf_cc_deg_df = pd.read_csv(\"lr_analysis/caf_dmso_cc_degs.csv\")\n",
    "pdo_mono_deg_df = pd.read_csv(\"lr_analysis/pdo_dmso_mono_degs.csv\")"
   ]
  },
  {
   "cell_type": "code",
   "execution_count": null,
   "metadata": {},
   "outputs": [],
   "source": [
    "# Filter the two lists\n",
    "pdo_mono_deg_df_filter = pdo_mono_deg_df[pdo_mono_deg_df['names'].isin(ligand_markers)]\n",
    "caf_cc_deg_df_filter = caf_cc_deg_df[caf_cc_deg_df['names'].isin(ligand_markers)]"
   ]
  },
  {
   "cell_type": "code",
   "execution_count": null,
   "metadata": {},
   "outputs": [],
   "source": [
    "pdo_mono_deg_df_filter_sorted = pdo_mono_deg_df_filter.sort_values(by='names')\n",
    "pdo_mono_deg_df_filter_sorted.columns =  ['names', 'pdo_scores', 'pdo_logfoldchanges', 'pdo_pvals', 'pdo_pvals_adj']\n",
    "\n",
    "caf_cc_deg_df_filter_sorted = caf_cc_deg_df_filter.sort_values(by='names')\n",
    "caf_cc_deg_df_filter_sorted.columns = ['names', 'cc_scores', 'cc_logfoldchanges', 'cc_pvals', 'cc_pvals_adj']"
   ]
  },
  {
   "cell_type": "code",
   "execution_count": null,
   "metadata": {},
   "outputs": [],
   "source": [
    "merged_de_ligand_df = pd.merge(pdo_mono_deg_df_filter_sorted, caf_cc_deg_df_filter_sorted, on='names')"
   ]
  },
  {
   "cell_type": "code",
   "execution_count": null,
   "metadata": {},
   "outputs": [],
   "source": [
    "# Define a assignment based on p-value and quadrant\n",
    "def color_point(row):\n",
    "    if row['cc_pvals_adj'] < 0.05:\n",
    "        if row['pdo_logfoldchanges'] > 0 and row['cc_logfoldchanges'] > 0 and row['pdo_pvals_adj'] < 0.05:  # 1st quadrant\n",
    "            return 'Q1_shared_pro_caf'\n",
    "        elif row['pdo_logfoldchanges'] > 0 and row['cc_logfoldchanges'] > 0 and row['pdo_pvals_adj'] > 0.05:  # 2nd quadrant\n",
    "            return 'Q5_caf_only'\n",
    "        elif row['pdo_logfoldchanges'] < 0 and row['cc_logfoldchanges'] > 0 and row['pdo_pvals_adj'] < 0.05:  # 2nd quadrant\n",
    "            return 'Q5_caf_only'\n",
    "        elif row['pdo_logfoldchanges'] < 0 and row['cc_logfoldchanges'] > 0 and row['pdo_pvals_adj'] > 0.05:  # 2nd quadrant\n",
    "            return 'Q5_caf_only'\n",
    "        elif row['pdo_logfoldchanges'] < 0 and row['cc_logfoldchanges'] < 0 and row['pdo_pvals_adj'] < 0.05:  # 3rd quadrant\n",
    "            return 'Q3_revCSC_only'\n",
    "        elif row['pdo_logfoldchanges'] < 0 and row['cc_logfoldchanges'] < 0 and row['pdo_pvals_adj'] > 0.05:  # 3rd quadrant\n",
    "            return 'Q6_shared_pro_rev'\n",
    "        elif row['pdo_logfoldchanges'] > 0 and row['cc_logfoldchanges'] < 0 and row['pdo_pvals_adj'] < 0.05:  # 4th quadrant\n",
    "            return 'Q4_proCSC_only'\n",
    "        elif row['pdo_logfoldchanges'] > 0 and row['cc_logfoldchanges'] < 0 and row['pdo_pvals_adj'] > 0.05:  # 4th quadrant\n",
    "            return 'Q6_shared_pro_rev'\n",
    "    return 'Q7_non_significant'  # Points not meeting the criteria of revCSC/CAF deregulation\n",
    "\n",
    "merged_de_ligand_df['color'] = merged_de_ligand_df.apply(color_point, axis=1)"
   ]
  },
  {
   "cell_type": "code",
   "execution_count": null,
   "metadata": {},
   "outputs": [],
   "source": [
    "# Colours\n",
    "colors = {'Q1_shared_pro_caf':'#010203', 'Q5_caf_only':'#008000', 'Q3_revCSC_only':'#010203',\n",
    "          'Q6_shared_pro_rev':'#010203', 'Q4_proCSC_only':'#010203', 'Q7_non_significant':'#DBDBDB'}\n",
    "\n",
    "fig, ax = plt.subplots()\n",
    "\n",
    "# Plot each point\n",
    "for color in merged_de_ligand_df['color'].unique():\n",
    "    subset = merged_de_ligand_df[merged_de_ligand_df['color'] == color]\n",
    "    ax.scatter(subset['pdo_logfoldchanges'], subset['cc_logfoldchanges'], s=8, c=subset['color'].map(colors))\n",
    "\n",
    "# Hide grid lines\n",
    "ax.grid(False)\n",
    "\n",
    "# Adjust limits\n",
    "ax.set_xlim(-2.5,2.5)\n",
    "ax.set_ylim(-6,8)\n",
    "\n",
    "# dashed horizontal and vertical lines at x=0 and y=0\n",
    "ax.axhline(y=0.5, color='black', linestyle='dashed', linewidth=0.5)\n",
    "ax.axhline(y=-0.7, color='black', linestyle='dashed', linewidth=0.5)\n",
    "ax.axvline(x=0, color='black', linestyle='dashed', linewidth=0.5)\n",
    "\n",
    "# Axis labels\n",
    "plt.xlabel('PDO-specificity', fontsize=15)\n",
    "plt.ylabel('CAF-specificity', fontsize=15)\n",
    "\n",
    "# Save figure\n",
    "fig.savefig('lr_analysis/deg_ligand_specificity.pdf', dpi=300)"
   ]
  },
  {
   "cell_type": "code",
   "execution_count": null,
   "metadata": {},
   "outputs": [],
   "source": [
    "# Filter on autocrine revCSC and paracrine CAF factors\n",
    "caf_paracrine_id = ['Q5_caf_only'] \n",
    "caf_paracrine_df = merged_de_ligand_df[merged_de_ligand_df['color'].isin(caf_paracrine_id)]\n",
    "caf_paracrine_df.sort_values(by='cc_logfoldchanges', ascending=False, inplace=True)\n",
    "\n",
    "caf_paracrine_factors = caf_paracrine_df['names'].to_list()"
   ]
  },
  {
   "cell_type": "code",
   "execution_count": null,
   "metadata": {},
   "outputs": [],
   "source": [
    "# Generate heatmap of DE Ligands and receptors\n",
    "hm_df = merged_de_ligand_df.set_index(\"names\")\n",
    "hm_df_lfc = hm_df[['cc_logfoldchanges']].sort_values('cc_logfoldchanges')\n",
    "hm_df_lfc"
   ]
  },
  {
   "cell_type": "code",
   "execution_count": null,
   "metadata": {},
   "outputs": [],
   "source": [
    "pdo_caf_ligs = hm_df_lfc.index.to_list()\n",
    "ligands = list(reversed(pdo_caf_ligs))"
   ]
  },
  {
   "cell_type": "code",
   "execution_count": null,
   "metadata": {},
   "outputs": [],
   "source": [
    "pdo_caf_images = hm_df_lfc.index\n",
    "\n",
    "sc.pl.dotplot(signal_adata_rna, ligands, groupby='cell_type_condition', dendrogram=False, \n",
    "              cmap='Greens', standard_scale='var', save='_filtered_LR_interactions.pdf')"
   ]
  },
  {
   "cell_type": "code",
   "execution_count": null,
   "metadata": {},
   "outputs": [],
   "source": [
    "fig, ax = plt.subplots(figsize=(1, 8))\n",
    "colormap = mpl.cm.get_cmap('PiYG')\n",
    "offset = mcolors.TwoSlopeNorm(vmin=-5, vcenter=-0, vmax=7)\n",
    "sns.heatmap(hm_df_lfc, cmap=colormap, norm=offset, linewidths = 0.05, linecolor='grey')\n",
    "plt.savefig('lr_analysis/cc_logFC.pdf', dpi=600, transparent=True, bbox_inches='tight')\n",
    "plt.show()"
   ]
  }
 ],
 "metadata": {
  "kernelspec": {
   "display_name": "scanpy_v1",
   "language": "python",
   "name": "python3"
  },
  "language_info": {
   "codemirror_mode": {
    "name": "ipython",
    "version": 3
   },
   "file_extension": ".py",
   "mimetype": "text/x-python",
   "name": "python",
   "nbconvert_exporter": "python",
   "pygments_lexer": "ipython3",
   "version": "3.10.9"
  }
 },
 "nbformat": 4,
 "nbformat_minor": 2
}
