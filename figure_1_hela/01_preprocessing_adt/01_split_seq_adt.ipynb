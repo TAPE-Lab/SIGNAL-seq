{
 "cells": [
  {
   "cell_type": "markdown",
   "metadata": {
    "id": "ijU_u6uj3Sio"
   },
   "source": [
    "# SIGNAL-seq ADT mapping with kallisto KITE workflow\n",
    "\n",
    "1) Map the FASTQ data to barcode reference using the Kallisto KITE pipeline\n",
    "2) Collapse the polyA and randomHex barcodes into CBs\n",
    "3) write out the data to a .h5ad file"
   ]
  },
  {
   "cell_type": "markdown",
   "metadata": {
    "id": "4ptOROSxBx8n"
   },
   "source": [
    "## Env Setup"
   ]
  },
  {
   "cell_type": "markdown",
   "metadata": {},
   "source": [
    "### Load packages"
   ]
  },
  {
   "cell_type": "code",
   "execution_count": 1,
   "metadata": {
    "id": "yxWdqYJapNHm"
   },
   "outputs": [
    {
     "name": "stderr",
     "output_type": "stream",
     "text": [
      "/var/folders/rk/05jx38f57w75573dgxbjlrm40000gn/T/ipykernel_66471/1790902959.py:5: DeprecationWarning: \n",
      "Pyarrow will become a required dependency of pandas in the next major release of pandas (pandas 3.0),\n",
      "(to allow more performant data types, such as the Arrow string type, and better interoperability with other libraries)\n",
      "but was not found to be installed on your system.\n",
      "If this would cause problems for you,\n",
      "please provide us feedback at https://github.com/pandas-dev/pandas/issues/54466\n",
      "        \n",
      "  import pandas as pd\n"
     ]
    }
   ],
   "source": [
    "# Import packages\n",
    "import matplotlib\n",
    "import numpy as np\n",
    "import pandas as pd\n",
    "import scanpy as sc\n",
    "from scipy import sparse, io\n",
    "import sys, os, argparse\n",
    "\n",
    "# Import utils\n",
    "# Get the current working directory\n",
    "current_dir = os.getcwd()\n",
    "utils_path = os.path.join(current_dir, '../../', 'utils')\n",
    "sys.path.append(utils_path)\n",
    "\n",
    "# Import adt utils functions\n",
    "from adt_utils import merge_rt_barcodes, pairwise_rt_comparison \n",
    "\n",
    "matplotlib.rcParams.update({'font.size': 12})\n",
    "%config InlineBackend.figure_format = 'retina'"
   ]
  },
  {
   "cell_type": "markdown",
   "metadata": {
    "id": "DioH-jvT5sKn"
   },
   "source": [
    "## Data input\n",
    "\n",
    "1) PE FASTQ format input files \n",
    "2) ADT antibody panel with barcodes and metadata required to generate mapping index"
   ]
  },
  {
   "cell_type": "code",
   "execution_count": 2,
   "metadata": {
    "id": "AyMZpldO3e7X"
   },
   "outputs": [
    {
     "data": {
      "text/html": [
       "<div>\n",
       "<style scoped>\n",
       "    .dataframe tbody tr th:only-of-type {\n",
       "        vertical-align: middle;\n",
       "    }\n",
       "\n",
       "    .dataframe tbody tr th {\n",
       "        vertical-align: top;\n",
       "    }\n",
       "\n",
       "    .dataframe thead th {\n",
       "        text-align: right;\n",
       "    }\n",
       "</style>\n",
       "<table border=\"1\" class=\"dataframe\">\n",
       "  <thead>\n",
       "    <tr style=\"text-align: right;\">\n",
       "      <th></th>\n",
       "      <th>Barcode</th>\n",
       "      <th>ADT_identifier</th>\n",
       "      <th>Antigen</th>\n",
       "      <th>Clone</th>\n",
       "      <th>supplier</th>\n",
       "      <th>Ag_category</th>\n",
       "      <th>Ab_ug</th>\n",
       "    </tr>\n",
       "  </thead>\n",
       "  <tbody>\n",
       "    <tr>\n",
       "      <th>0</th>\n",
       "      <td>AAGGCAGACGGTGCA</td>\n",
       "      <td>1</td>\n",
       "      <td>Rat_IgG_Control</td>\n",
       "      <td>G8.8</td>\n",
       "      <td>BioLegend</td>\n",
       "      <td>control</td>\n",
       "      <td>1.00</td>\n",
       "    </tr>\n",
       "    <tr>\n",
       "      <th>1</th>\n",
       "      <td>GGCTGCGCACCGCCT</td>\n",
       "      <td>2</td>\n",
       "      <td>CD44_v4</td>\n",
       "      <td>IM7</td>\n",
       "      <td>BioLegend</td>\n",
       "      <td>extra</td>\n",
       "      <td>0.25</td>\n",
       "    </tr>\n",
       "    <tr>\n",
       "      <th>2</th>\n",
       "      <td>CGTCCTAGGACATAT</td>\n",
       "      <td>5</td>\n",
       "      <td>pP120-Catenin_[T310]</td>\n",
       "      <td>22/p120 (pT310)</td>\n",
       "      <td>BD Biosciences</td>\n",
       "      <td>signalling</td>\n",
       "      <td>0.50</td>\n",
       "    </tr>\n",
       "    <tr>\n",
       "      <th>3</th>\n",
       "      <td>CTCCAGCTCGAGCTC</td>\n",
       "      <td>6</td>\n",
       "      <td>pRB_[S807/811]_v1</td>\n",
       "      <td>J112-906</td>\n",
       "      <td>BD Biosciences</td>\n",
       "      <td>signalling</td>\n",
       "      <td>1.00</td>\n",
       "    </tr>\n",
       "    <tr>\n",
       "      <th>4</th>\n",
       "      <td>AGCGAACCGCCGCTG</td>\n",
       "      <td>8</td>\n",
       "      <td>me2_Histone_H3_[K4]</td>\n",
       "      <td>C64G9</td>\n",
       "      <td>CST</td>\n",
       "      <td>signalling</td>\n",
       "      <td>0.27</td>\n",
       "    </tr>\n",
       "    <tr>\n",
       "      <th>5</th>\n",
       "      <td>GTGCAAGAGTTGGCG</td>\n",
       "      <td>9</td>\n",
       "      <td>cCaspase_3_[D175]_v2</td>\n",
       "      <td>D3E9</td>\n",
       "      <td>CST</td>\n",
       "      <td>signalling</td>\n",
       "      <td>0.20</td>\n",
       "    </tr>\n",
       "    <tr>\n",
       "      <th>6</th>\n",
       "      <td>TGGTGACAAGTATCT</td>\n",
       "      <td>11</td>\n",
       "      <td>Mouse_IgG_Control</td>\n",
       "      <td>MOPC21</td>\n",
       "      <td>BioLegend</td>\n",
       "      <td>control</td>\n",
       "      <td>1.00</td>\n",
       "    </tr>\n",
       "    <tr>\n",
       "      <th>7</th>\n",
       "      <td>GCCAAGATCAGGTCC</td>\n",
       "      <td>14</td>\n",
       "      <td>pPDPK1_[S241]</td>\n",
       "      <td>J66-653.44.22</td>\n",
       "      <td>BD Biosciences</td>\n",
       "      <td>signalling</td>\n",
       "      <td>0.90</td>\n",
       "    </tr>\n",
       "    <tr>\n",
       "      <th>8</th>\n",
       "      <td>TTAGGTGTACACGTT</td>\n",
       "      <td>15</td>\n",
       "      <td>pMKK4/SEK1_[S257]</td>\n",
       "      <td>C36C11</td>\n",
       "      <td>CST</td>\n",
       "      <td>signalling</td>\n",
       "      <td>1.40</td>\n",
       "    </tr>\n",
       "    <tr>\n",
       "      <th>9</th>\n",
       "      <td>GCATTGCGTCAGGCT</td>\n",
       "      <td>16</td>\n",
       "      <td>pBTK_[Y551]_1_v2</td>\n",
       "      <td>24a/BTK</td>\n",
       "      <td>BD Biosciences</td>\n",
       "      <td>signalling</td>\n",
       "      <td>2.00</td>\n",
       "    </tr>\n",
       "    <tr>\n",
       "      <th>10</th>\n",
       "      <td>CTGGTCGAACTTCGT</td>\n",
       "      <td>17</td>\n",
       "      <td>p4E-BP1_[T37/46]_v2</td>\n",
       "      <td>236B4</td>\n",
       "      <td>CST</td>\n",
       "      <td>signalling</td>\n",
       "      <td>0.56</td>\n",
       "    </tr>\n",
       "    <tr>\n",
       "      <th>11</th>\n",
       "      <td>AGAGCTAGGATCGGA</td>\n",
       "      <td>18</td>\n",
       "      <td>pAKT_[T308]</td>\n",
       "      <td>J1-223.371</td>\n",
       "      <td>BD Biosciences</td>\n",
       "      <td>signalling</td>\n",
       "      <td>1.40</td>\n",
       "    </tr>\n",
       "    <tr>\n",
       "      <th>12</th>\n",
       "      <td>ATAATCATTACGTGG</td>\n",
       "      <td>19</td>\n",
       "      <td>pNF-κB_p65_[S529]</td>\n",
       "      <td>K10-895.12.50</td>\n",
       "      <td>BD Biosciences</td>\n",
       "      <td>signalling</td>\n",
       "      <td>0.45</td>\n",
       "    </tr>\n",
       "    <tr>\n",
       "      <th>13</th>\n",
       "      <td>CGTCGCAATCCATTG</td>\n",
       "      <td>21</td>\n",
       "      <td>pP38_MAPK_[T180/Y182]_v2</td>\n",
       "      <td>D8E9</td>\n",
       "      <td>CST</td>\n",
       "      <td>signalling</td>\n",
       "      <td>0.60</td>\n",
       "    </tr>\n",
       "    <tr>\n",
       "      <th>14</th>\n",
       "      <td>CAAGCGCGGCTTCCG</td>\n",
       "      <td>23</td>\n",
       "      <td>pHistone_H2A.X_[S139]_3</td>\n",
       "      <td>D7T2V</td>\n",
       "      <td>CST</td>\n",
       "      <td>signalling</td>\n",
       "      <td>0.65</td>\n",
       "    </tr>\n",
       "    <tr>\n",
       "      <th>15</th>\n",
       "      <td>AGACAGTGATGTCCG</td>\n",
       "      <td>27</td>\n",
       "      <td>pS6_[S240/S244]_2</td>\n",
       "      <td>D68F8</td>\n",
       "      <td>CST</td>\n",
       "      <td>signalling</td>\n",
       "      <td>0.50</td>\n",
       "    </tr>\n",
       "    <tr>\n",
       "      <th>16</th>\n",
       "      <td>CGTACATGTACCACA</td>\n",
       "      <td>29</td>\n",
       "      <td>Pan-CK</td>\n",
       "      <td>AE1/AE3</td>\n",
       "      <td>BioLegend</td>\n",
       "      <td>intra</td>\n",
       "      <td>1.50</td>\n",
       "    </tr>\n",
       "    <tr>\n",
       "      <th>17</th>\n",
       "      <td>GGACGAGTTCAACGT</td>\n",
       "      <td>30</td>\n",
       "      <td>CK18</td>\n",
       "      <td>C-04</td>\n",
       "      <td>Santa Cruz</td>\n",
       "      <td>intra</td>\n",
       "      <td>0.50</td>\n",
       "    </tr>\n",
       "    <tr>\n",
       "      <th>18</th>\n",
       "      <td>GCGGCTCTGTTGATG</td>\n",
       "      <td>31</td>\n",
       "      <td>Vimentin</td>\n",
       "      <td>RV202</td>\n",
       "      <td>Novus Biologicals</td>\n",
       "      <td>intra</td>\n",
       "      <td>0.50</td>\n",
       "    </tr>\n",
       "    <tr>\n",
       "      <th>19</th>\n",
       "      <td>TTGTCACGGTAATAA</td>\n",
       "      <td>32</td>\n",
       "      <td>Cyclin_B1_2</td>\n",
       "      <td>GNS-11</td>\n",
       "      <td>BD Biosciences</td>\n",
       "      <td>signalling</td>\n",
       "      <td>1.00</td>\n",
       "    </tr>\n",
       "    <tr>\n",
       "      <th>20</th>\n",
       "      <td>ATCGAACCGACAGAG</td>\n",
       "      <td>33</td>\n",
       "      <td>pNDRG1_[T346]</td>\n",
       "      <td>D98G11</td>\n",
       "      <td>CST</td>\n",
       "      <td>signalling</td>\n",
       "      <td>1.20</td>\n",
       "    </tr>\n",
       "    <tr>\n",
       "      <th>21</th>\n",
       "      <td>GGTCGACTAGGTCGG</td>\n",
       "      <td>34</td>\n",
       "      <td>pHistone_H3_[Ser28]_v3</td>\n",
       "      <td>HTA28</td>\n",
       "      <td>BioLegend</td>\n",
       "      <td>signalling</td>\n",
       "      <td>1.00</td>\n",
       "    </tr>\n",
       "    <tr>\n",
       "      <th>22</th>\n",
       "      <td>CTCAAGCATTATCAT</td>\n",
       "      <td>35</td>\n",
       "      <td>Rabbit_IgG_Control</td>\n",
       "      <td>Polyclonal</td>\n",
       "      <td>R&amp;D Systems</td>\n",
       "      <td>control</td>\n",
       "      <td>1.40</td>\n",
       "    </tr>\n",
       "  </tbody>\n",
       "</table>\n",
       "</div>"
      ],
      "text/plain": [
       "            Barcode  ADT_identifier                   Antigen  \\\n",
       "0   AAGGCAGACGGTGCA               1           Rat_IgG_Control   \n",
       "1   GGCTGCGCACCGCCT               2                   CD44_v4   \n",
       "2   CGTCCTAGGACATAT               5      pP120-Catenin_[T310]   \n",
       "3   CTCCAGCTCGAGCTC               6         pRB_[S807/811]_v1   \n",
       "4   AGCGAACCGCCGCTG               8       me2_Histone_H3_[K4]   \n",
       "5   GTGCAAGAGTTGGCG               9      cCaspase_3_[D175]_v2   \n",
       "6   TGGTGACAAGTATCT              11         Mouse_IgG_Control   \n",
       "7   GCCAAGATCAGGTCC              14             pPDPK1_[S241]   \n",
       "8   TTAGGTGTACACGTT              15         pMKK4/SEK1_[S257]   \n",
       "9   GCATTGCGTCAGGCT              16          pBTK_[Y551]_1_v2   \n",
       "10  CTGGTCGAACTTCGT              17       p4E-BP1_[T37/46]_v2   \n",
       "11  AGAGCTAGGATCGGA              18               pAKT_[T308]   \n",
       "12  ATAATCATTACGTGG              19         pNF-κB_p65_[S529]   \n",
       "13  CGTCGCAATCCATTG              21  pP38_MAPK_[T180/Y182]_v2   \n",
       "14  CAAGCGCGGCTTCCG              23   pHistone_H2A.X_[S139]_3   \n",
       "15  AGACAGTGATGTCCG              27         pS6_[S240/S244]_2   \n",
       "16  CGTACATGTACCACA              29                    Pan-CK   \n",
       "17  GGACGAGTTCAACGT              30                      CK18   \n",
       "18  GCGGCTCTGTTGATG              31                  Vimentin   \n",
       "19  TTGTCACGGTAATAA              32               Cyclin_B1_2   \n",
       "20  ATCGAACCGACAGAG              33             pNDRG1_[T346]   \n",
       "21  GGTCGACTAGGTCGG              34    pHistone_H3_[Ser28]_v3   \n",
       "22  CTCAAGCATTATCAT              35        Rabbit_IgG_Control   \n",
       "\n",
       "              Clone           supplier Ag_category  Ab_ug  \n",
       "0              G8.8          BioLegend     control   1.00  \n",
       "1               IM7          BioLegend       extra   0.25  \n",
       "2   22/p120 (pT310)     BD Biosciences  signalling   0.50  \n",
       "3          J112-906     BD Biosciences  signalling   1.00  \n",
       "4             C64G9                CST  signalling   0.27  \n",
       "5              D3E9                CST  signalling   0.20  \n",
       "6            MOPC21          BioLegend     control   1.00  \n",
       "7     J66-653.44.22     BD Biosciences  signalling   0.90  \n",
       "8            C36C11                CST  signalling   1.40  \n",
       "9           24a/BTK     BD Biosciences  signalling   2.00  \n",
       "10            236B4                CST  signalling   0.56  \n",
       "11       J1-223.371     BD Biosciences  signalling   1.40  \n",
       "12    K10-895.12.50     BD Biosciences  signalling   0.45  \n",
       "13             D8E9                CST  signalling   0.60  \n",
       "14            D7T2V                CST  signalling   0.65  \n",
       "15            D68F8                CST  signalling   0.50  \n",
       "16          AE1/AE3          BioLegend       intra   1.50  \n",
       "17             C-04         Santa Cruz       intra   0.50  \n",
       "18            RV202  Novus Biologicals       intra   0.50  \n",
       "19           GNS-11     BD Biosciences  signalling   1.00  \n",
       "20           D98G11                CST  signalling   1.20  \n",
       "21            HTA28          BioLegend  signalling   1.00  \n",
       "22       Polyclonal        R&D Systems     control   1.40  "
      ]
     },
     "execution_count": 2,
     "metadata": {},
     "output_type": "execute_result"
    }
   ],
   "source": [
    "# Load features reference  \n",
    "# Clean up the antibody names for problematic characters\n",
    "df = pd.read_csv('barcode_layouts/Ex0003_kite_panel.csv')\n",
    "df['Antigen']=df['Antigen'].str.replace(' ','_')\n",
    "df['Antigen']=df['Antigen'].str.replace('(','')\n",
    "df['Antigen']=df['Antigen'].str.replace(')','')\n",
    "df"
   ]
  },
  {
   "cell_type": "code",
   "execution_count": 3,
   "metadata": {},
   "outputs": [
    {
     "name": "stdout",
     "output_type": "stream",
     "text": [
      "AAGGCAGACGGTGCA\tRat_IgG_Control\n",
      "GGCTGCGCACCGCCT\tCD44_v4\n",
      "CGTCCTAGGACATAT\tpP120-Catenin_[T310]\n",
      "CTCCAGCTCGAGCTC\tpRB_[S807/811]_v1\n",
      "AGCGAACCGCCGCTG\tme2_Histone_H3_[K4]\n",
      "GTGCAAGAGTTGGCG\tcCaspase_3_[D175]_v2\n",
      "TGGTGACAAGTATCT\tMouse_IgG_Control\n",
      "GCCAAGATCAGGTCC\tpPDPK1_[S241]\n",
      "TTAGGTGTACACGTT\tpMKK4/SEK1_[S257]\n",
      "GCATTGCGTCAGGCT\tpBTK_[Y551]_1_v2\n",
      "CTGGTCGAACTTCGT\tp4E-BP1_[T37/46]_v2\n",
      "AGAGCTAGGATCGGA\tpAKT_[T308]\n",
      "ATAATCATTACGTGG\tpNF-κB_p65_[S529]\n",
      "CGTCGCAATCCATTG\tpP38_MAPK_[T180/Y182]_v2\n",
      "CAAGCGCGGCTTCCG\tpHistone_H2A.X_[S139]_3\n",
      "AGACAGTGATGTCCG\tpS6_[S240/S244]_2\n",
      "CGTACATGTACCACA\tPan-CK\n",
      "GGACGAGTTCAACGT\tCK18\n",
      "GCGGCTCTGTTGATG\tVimentin\n",
      "TTGTCACGGTAATAA\tCyclin_B1_2\n",
      "ATCGAACCGACAGAG\tpNDRG1_[T346]\n",
      "GGTCGACTAGGTCGG\tpHistone_H3_[Ser28]_v3\n",
      "CTCAAGCATTATCAT\tRabbit_IgG_Control\n"
     ]
    }
   ],
   "source": [
    "# Generate the tsv raw feature file to input into Kallisto - KITE\n",
    "df[['Barcode', 'Antigen']].to_csv('barcode_layouts/features.tsv', index=None, header=None, sep='\\t')\n",
    "!cat barcode_layouts/features.tsv"
   ]
  },
  {
   "cell_type": "code",
   "execution_count": 4,
   "metadata": {},
   "outputs": [
    {
     "name": "stdout",
     "output_type": "stream",
     "text": [
      "[2024-02-10 18:42:47,019]    INFO [ref_kite] Generating mismatch FASTA at barcode_layouts/mismatch.fa\n",
      "[2024-02-10 18:42:47,037]    INFO [ref_kite] Creating transcript-to-gene mapping at barcode_layouts/t2g.txt\n",
      "[2024-02-10 18:42:47,044]    INFO [ref_kite] Indexing barcode_layouts/mismatch.fa to barcode_layouts/mismatch.idx\n"
     ]
    }
   ],
   "source": [
    "# Use kb to generate the mismatch kallisto index.\n",
    "!kb ref -i barcode_layouts/mismatch.idx -f1 barcode_layouts/mismatch.fa -g barcode_layouts/t2g.txt --workflow kite barcode_layouts/features.tsv --overwrite"
   ]
  },
  {
   "cell_type": "markdown",
   "metadata": {
    "id": "8vawR3Yo4GoP"
   },
   "source": [
    "## Run kallisto and bustools to feature count matrix in H5AD format\n"
   ]
  },
  {
   "cell_type": "code",
   "execution_count": 5,
   "metadata": {
    "id": "NqO22xH84BUM"
   },
   "outputs": [
    {
     "name": "stdout",
     "output_type": "stream",
     "text": [
      "[2024-02-10 18:42:57,099]    INFO [count] Using index barcode_layouts/mismatch.idx to generate BUS file to split_adt/ from\n",
      "[2024-02-10 18:42:57,099]    INFO [count]         ../../../raw_data/fastq/adt/ex0003-adt-76_S1_L001_R1_001.fastq.gz\n",
      "[2024-02-10 18:42:57,099]    INFO [count]         ../../../raw_data/fastq/adt/ex0003-adt-76_S1_L001_R2_001.fastq.gz\n",
      "[2024-02-10 18:43:57,623]    INFO [count] Sorting BUS file split_adt/output.bus to split_adt/tmp/output.s.bus\n",
      "[2024-02-10 18:44:12,458]    INFO [count] Inspecting BUS file split_adt/tmp/output.s.bus\n",
      "[2024-02-10 18:44:17,852]    INFO [count] Correcting BUS records in split_adt/tmp/output.s.bus to split_adt/tmp/output.s.c.bus with whitelist barcode_layouts/split_seqv2_barcode_wlist.txt\n",
      "[2024-02-10 18:44:27,030]    INFO [count] Sorting BUS file split_adt/tmp/output.s.c.bus to split_adt/output.unfiltered.bus\n",
      "[2024-02-10 18:44:35,074]    INFO [count] Generating count matrix split_adt/counts_unfiltered/cells_x_features from BUS file split_adt/output.unfiltered.bus\n",
      "[2024-02-10 18:44:36,535]    INFO [count] Reading matrix split_adt/counts_unfiltered/cells_x_features.mtx\n",
      "[2024-02-10 18:44:36,645]    INFO [count] Writing matrix to h5ad split_adt/counts_unfiltered/adata.h5ad\n"
     ]
    }
   ],
   "source": [
    "# Run kb count pipeline\n",
    "#%%time\n",
    "!kb count --h5ad -i barcode_layouts/mismatch.idx -o split_adt/ -w barcode_layouts/split_seqv2_barcode_wlist.txt -g barcode_layouts/t2g.txt -x 1,10,18,1,48,56,1,78,86:1,0,10:0,0,0 --workflow kite -t 2 --keep-tmp --overwrite\\\n",
    "../../../raw_data/fastq/adt/ex0003-adt-76_S1_L001_R1_001.fastq.gz ../../../raw_data/fastq/adt/ex0003-adt-76_S1_L001_R2_001.fastq.gz\n"
   ]
  },
  {
   "cell_type": "code",
   "execution_count": 6,
   "metadata": {
    "id": "Mpn9X0hqBjYA"
   },
   "outputs": [
    {
     "name": "stdout",
     "output_type": "stream",
     "text": [
      "Read in 15895179 BUS records\n",
      "Read in 3212531 BUS records\n"
     ]
    }
   ],
   "source": [
    "# Use bustools to capture the reads based on umi, ADT_barcode or split_barcode.\n",
    "# Can filter based on whitelist here too, if needed in the future\n",
    "!bustools text -o split_adt/bus_text_raw.txt split_adt/output.bus \n",
    "!bustools text -o split_adt/bus_text_pp.txt split_adt/output.unfiltered.bus "
   ]
  },
  {
   "cell_type": "markdown",
   "metadata": {
    "id": "sZmv_OiIqEdw"
   },
   "source": [
    "## Generate anndata object for preprocessing"
   ]
  },
  {
   "cell_type": "code",
   "execution_count": 7,
   "metadata": {
    "id": "ktUFMcJ1qdj0"
   },
   "outputs": [
    {
     "data": {
      "text/plain": [
       "AnnData object with n_obs × n_vars = 93597 × 23\n",
       "    var: 'feature_name'"
      ]
     },
     "execution_count": 7,
     "metadata": {},
     "output_type": "execute_result"
    }
   ],
   "source": [
    "# Figure output directory\n",
    "sc.settings.figdir = 'pre_processing_figures'\n",
    "\n",
    "#  kallisto adt x barocde data\n",
    "adata = sc.read_h5ad('split_adt/counts_unfiltered/adata.h5ad')\n",
    "adata"
   ]
  },
  {
   "cell_type": "code",
   "execution_count": 8,
   "metadata": {},
   "outputs": [],
   "source": [
    "# Generate QC counts for CBs\n",
    "sc.pp.calculate_qc_metrics(adata, percent_top=None, log1p=True, inplace=True)"
   ]
  },
  {
   "cell_type": "markdown",
   "metadata": {
    "id": "VYlMjOCU-hKI"
   },
   "source": [
    "## Collapse RT and Random Hex barcodes (BC 1)"
   ]
  },
  {
   "cell_type": "markdown",
   "metadata": {
    "id": "yI0mdfEU-4uY"
   },
   "source": [
    "### Assign barcodes to well_ids and store as anndata .obs"
   ]
  },
  {
   "cell_type": "code",
   "execution_count": 9,
   "metadata": {},
   "outputs": [
    {
     "data": {
      "text/plain": [
       "AnnData object with n_obs × n_vars = 93597 × 23\n",
       "    obs: 'n_genes_by_counts', 'log1p_n_genes_by_counts', 'total_counts', 'log1p_total_counts', 'barcode_1', 'barcode_2', 'barcode_3', 'barcode_2_3'\n",
       "    var: 'feature_name', 'n_cells_by_counts', 'mean_counts', 'log1p_mean_counts', 'pct_dropout_by_counts', 'total_counts', 'log1p_total_counts'"
      ]
     },
     "execution_count": 9,
     "metadata": {},
     "output_type": "execute_result"
    }
   ],
   "source": [
    "# Initialize a list for each cell barcode (ubc) component\n",
    "# RT1\n",
    "ubc_1 = []\n",
    "# L2\n",
    "ubc_2 = []\n",
    "#L3\n",
    "ubc_3 = []\n",
    "# The both ligation BCs\n",
    "ubc_23 = []\n",
    "\n",
    "# Loop through each barcode extracting the subsequence\n",
    "for barcode in adata.obs.index.values:\n",
    "  ubc_1.append(barcode[-8:])\n",
    "  ubc_2.append(barcode[8:16])\n",
    "  ubc_3.append(barcode[:8])\n",
    "  ubc_23.append(barcode[:16])\n",
    "  \n",
    "  \n",
    "\n",
    "# Add barcode subsequence to adata .obs\n",
    "adata.obs[\"barcode_1\"] = ubc_1\n",
    "adata.obs[\"barcode_2\"] = ubc_2\n",
    "adata.obs[\"barcode_3\"] = ubc_3\n",
    "adata.obs[\"barcode_2_3\"] = ubc_23\n",
    "\n",
    "# View adata\n",
    "adata"
   ]
  },
  {
   "cell_type": "code",
   "execution_count": 10,
   "metadata": {},
   "outputs": [
    {
     "data": {
      "text/html": [
       "<div>\n",
       "<style scoped>\n",
       "    .dataframe tbody tr th:only-of-type {\n",
       "        vertical-align: middle;\n",
       "    }\n",
       "\n",
       "    .dataframe tbody tr th {\n",
       "        vertical-align: top;\n",
       "    }\n",
       "\n",
       "    .dataframe thead th {\n",
       "        text-align: right;\n",
       "    }\n",
       "</style>\n",
       "<table border=\"1\" class=\"dataframe\">\n",
       "  <thead>\n",
       "    <tr style=\"text-align: right;\">\n",
       "      <th></th>\n",
       "      <th>ID</th>\n",
       "      <th>barcode_1</th>\n",
       "      <th>sample_id</th>\n",
       "    </tr>\n",
       "  </thead>\n",
       "  <tbody>\n",
       "    <tr>\n",
       "      <th>0</th>\n",
       "      <td>1</td>\n",
       "      <td>ACTCGTAA</td>\n",
       "      <td>Control</td>\n",
       "    </tr>\n",
       "    <tr>\n",
       "      <th>1</th>\n",
       "      <td>2</td>\n",
       "      <td>AAACGATA</td>\n",
       "      <td>Control</td>\n",
       "    </tr>\n",
       "    <tr>\n",
       "      <th>2</th>\n",
       "      <td>3</td>\n",
       "      <td>TTACCTCG</td>\n",
       "      <td>Control</td>\n",
       "    </tr>\n",
       "    <tr>\n",
       "      <th>3</th>\n",
       "      <td>4</td>\n",
       "      <td>GCCTGCAA</td>\n",
       "      <td>Control</td>\n",
       "    </tr>\n",
       "    <tr>\n",
       "      <th>4</th>\n",
       "      <td>5</td>\n",
       "      <td>TGGTATAC</td>\n",
       "      <td>Control</td>\n",
       "    </tr>\n",
       "    <tr>\n",
       "      <th>...</th>\n",
       "      <td>...</td>\n",
       "      <td>...</td>\n",
       "      <td>...</td>\n",
       "    </tr>\n",
       "    <tr>\n",
       "      <th>91</th>\n",
       "      <td>92</td>\n",
       "      <td>GACAAAGC</td>\n",
       "      <td>GFs MEKi PI3Ki</td>\n",
       "    </tr>\n",
       "    <tr>\n",
       "      <th>92</th>\n",
       "      <td>93</td>\n",
       "      <td>GGGCGATG</td>\n",
       "      <td>GFs MEKi PI3Ki</td>\n",
       "    </tr>\n",
       "    <tr>\n",
       "      <th>93</th>\n",
       "      <td>94</td>\n",
       "      <td>ATCTATAA</td>\n",
       "      <td>GFs MEKi PI3Ki</td>\n",
       "    </tr>\n",
       "    <tr>\n",
       "      <th>94</th>\n",
       "      <td>95</td>\n",
       "      <td>GCCCATGA</td>\n",
       "      <td>GFs MEKi PI3Ki</td>\n",
       "    </tr>\n",
       "    <tr>\n",
       "      <th>95</th>\n",
       "      <td>96</td>\n",
       "      <td>CTGAAAGG</td>\n",
       "      <td>GFs MEKi PI3Ki</td>\n",
       "    </tr>\n",
       "  </tbody>\n",
       "</table>\n",
       "<p>96 rows × 3 columns</p>\n",
       "</div>"
      ],
      "text/plain": [
       "    ID barcode_1       sample_id\n",
       "0    1  ACTCGTAA         Control\n",
       "1    2  AAACGATA         Control\n",
       "2    3  TTACCTCG         Control\n",
       "3    4  GCCTGCAA         Control\n",
       "4    5  TGGTATAC         Control\n",
       "..  ..       ...             ...\n",
       "91  92  GACAAAGC  GFs MEKi PI3Ki\n",
       "92  93  GGGCGATG  GFs MEKi PI3Ki\n",
       "93  94  ATCTATAA  GFs MEKi PI3Ki\n",
       "94  95  GCCCATGA  GFs MEKi PI3Ki\n",
       "95  96  CTGAAAGG  GFs MEKi PI3Ki\n",
       "\n",
       "[96 rows x 3 columns]"
      ]
     },
     "execution_count": 10,
     "metadata": {},
     "output_type": "execute_result"
    }
   ],
   "source": [
    "# Read RT BC mapping dataframe contains sample ID numbers\n",
    "# 1-48 are PolyA, 49-96 are rHex\n",
    "mapping_table = pd.read_csv(\"barcode_layouts/barcodes_v2_id_map.csv\")\n",
    "mapping_table.columns = [\"ID\", \"barcode_1\", \"sample_id\"]\n",
    "\n",
    "mapping_table"
   ]
  },
  {
   "cell_type": "code",
   "execution_count": 11,
   "metadata": {},
   "outputs": [],
   "source": [
    "# Assign RT barcodes sample_id and well index\n",
    "indices = []\n",
    "sample_id = []\n",
    "\n",
    "# Loop through the RT barcodes\n",
    "for barcode_1 in adata.obs[\"barcode_1\"]:\n",
    "\n",
    "  # if barcode_1 in mapping dataframe \n",
    "  if barcode_1 in mapping_table[\"barcode_1\"].values:\n",
    "    index_position = mapping_table[\"barcode_1\"] == barcode_1\n",
    "    indices.append(mapping_table[index_position][\"ID\"].values[0])\n",
    "    sample_id.append(mapping_table[index_position][\"sample_id\"].values[0])\n",
    "\n",
    "    # else if barcode_1 is invalid provide warning\n",
    "  else:\n",
    "    indices.append(-1)\n",
    "    sample_id.append(\"invalid\")\n",
    "    print(\"WLIST ERROR, INVALID INDICES PRESENT!!\")\n",
    "\n",
    "# Annotate adata with corresponding well and sample_id data\n",
    "adata.obs[\"index_1\"] = indices\n",
    "adata.obs[\"sample_id\"] = sample_id"
   ]
  },
  {
   "cell_type": "code",
   "execution_count": 12,
   "metadata": {},
   "outputs": [
    {
     "data": {
      "text/html": [
       "<div>\n",
       "<style scoped>\n",
       "    .dataframe tbody tr th:only-of-type {\n",
       "        vertical-align: middle;\n",
       "    }\n",
       "\n",
       "    .dataframe tbody tr th {\n",
       "        vertical-align: top;\n",
       "    }\n",
       "\n",
       "    .dataframe thead th {\n",
       "        text-align: right;\n",
       "    }\n",
       "</style>\n",
       "<table border=\"1\" class=\"dataframe\">\n",
       "  <thead>\n",
       "    <tr style=\"text-align: right;\">\n",
       "      <th></th>\n",
       "      <th>ID</th>\n",
       "      <th>barcode</th>\n",
       "      <th>sample_id</th>\n",
       "    </tr>\n",
       "  </thead>\n",
       "  <tbody>\n",
       "    <tr>\n",
       "      <th>0</th>\n",
       "      <td>1</td>\n",
       "      <td>AACGTGAT</td>\n",
       "      <td>NaN</td>\n",
       "    </tr>\n",
       "    <tr>\n",
       "      <th>1</th>\n",
       "      <td>2</td>\n",
       "      <td>AAACATCG</td>\n",
       "      <td>NaN</td>\n",
       "    </tr>\n",
       "    <tr>\n",
       "      <th>2</th>\n",
       "      <td>3</td>\n",
       "      <td>ATGCCTAA</td>\n",
       "      <td>NaN</td>\n",
       "    </tr>\n",
       "    <tr>\n",
       "      <th>3</th>\n",
       "      <td>4</td>\n",
       "      <td>AGTGGTCA</td>\n",
       "      <td>NaN</td>\n",
       "    </tr>\n",
       "    <tr>\n",
       "      <th>4</th>\n",
       "      <td>5</td>\n",
       "      <td>ACCACTGT</td>\n",
       "      <td>NaN</td>\n",
       "    </tr>\n",
       "    <tr>\n",
       "      <th>...</th>\n",
       "      <td>...</td>\n",
       "      <td>...</td>\n",
       "      <td>...</td>\n",
       "    </tr>\n",
       "    <tr>\n",
       "      <th>91</th>\n",
       "      <td>92</td>\n",
       "      <td>GAACAGGC</td>\n",
       "      <td>NaN</td>\n",
       "    </tr>\n",
       "    <tr>\n",
       "      <th>92</th>\n",
       "      <td>93</td>\n",
       "      <td>GACAGTGC</td>\n",
       "      <td>NaN</td>\n",
       "    </tr>\n",
       "    <tr>\n",
       "      <th>93</th>\n",
       "      <td>94</td>\n",
       "      <td>GAGTTAGC</td>\n",
       "      <td>NaN</td>\n",
       "    </tr>\n",
       "    <tr>\n",
       "      <th>94</th>\n",
       "      <td>95</td>\n",
       "      <td>GATGAATC</td>\n",
       "      <td>NaN</td>\n",
       "    </tr>\n",
       "    <tr>\n",
       "      <th>95</th>\n",
       "      <td>96</td>\n",
       "      <td>GCCAAGAC</td>\n",
       "      <td>NaN</td>\n",
       "    </tr>\n",
       "  </tbody>\n",
       "</table>\n",
       "<p>96 rows × 3 columns</p>\n",
       "</div>"
      ],
      "text/plain": [
       "    ID   barcode  sample_id\n",
       "0    1  AACGTGAT        NaN\n",
       "1    2  AAACATCG        NaN\n",
       "2    3  ATGCCTAA        NaN\n",
       "3    4  AGTGGTCA        NaN\n",
       "4    5  ACCACTGT        NaN\n",
       "..  ..       ...        ...\n",
       "91  92  GAACAGGC        NaN\n",
       "92  93  GACAGTGC        NaN\n",
       "93  94  GAGTTAGC        NaN\n",
       "94  95  GATGAATC        NaN\n",
       "95  96  GCCAAGAC        NaN\n",
       "\n",
       "[96 rows x 3 columns]"
      ]
     },
     "execution_count": 12,
     "metadata": {},
     "output_type": "execute_result"
    }
   ],
   "source": [
    "# Read mapping daatframe, for Ligation barcodes 2 and 3\n",
    "mapping_table_l23 = pd.read_csv(\"barcode_layouts/barcodes_v1.csv\")\n",
    "mapping_table_l23.columns = [\"ID\", \"barcode\", \"sample_id\"]\n",
    "\n",
    "mapping_table_l23"
   ]
  },
  {
   "cell_type": "code",
   "execution_count": 13,
   "metadata": {},
   "outputs": [],
   "source": [
    "# Assing index for L2 barcode\n",
    "indices = []\n",
    "\n",
    "# Loop through the LS barcodes\n",
    "for barcode_2 in adata.obs[\"barcode_2\"]:\n",
    "\n",
    "  # Assign if valid\n",
    "  if barcode_2 in mapping_table_l23[\"barcode\"].values:\n",
    "    index_position = mapping_table_l23[\"barcode\"] == barcode_2\n",
    "    indices.append(mapping_table_l23[index_position][\"ID\"].values[0])\n",
    "\n",
    "    # else if barcode_2 is invalid provide warning\n",
    "  else:\n",
    "    indices.append(-1)\n",
    "    print(\"WLIST ERROR, INVALID INDICES PRESENT!!\")\n",
    "\n",
    "# Annotate adata with corresponding indices\n",
    "adata.obs[\"index_2\"] = indices"
   ]
  },
  {
   "cell_type": "code",
   "execution_count": 14,
   "metadata": {},
   "outputs": [],
   "source": [
    "# Repeat process for L3 barcodes\n",
    "indices = []\n",
    "for barcode_3 in adata.obs[\"barcode_3\"]:\n",
    "\n",
    "  if barcode_3 in mapping_table_l23[\"barcode\"].values:\n",
    "    index_position = mapping_table_l23[\"barcode\"] == barcode_3\n",
    "    indices.append(mapping_table_l23[index_position][\"ID\"].values[0])\n",
    "  else:\n",
    "    indices.append(-1)\n",
    "    print(\"WLIST ERROR, INVALID INDICES PRESENT!!\")\n",
    "\n",
    "adata.obs[\"index_3\"] = indices"
   ]
  },
  {
   "cell_type": "code",
   "execution_count": 18,
   "metadata": {},
   "outputs": [],
   "source": [
    "# Write out indexing well counts to files\n",
    "# unmerged index data for further analysis\n",
    "rt_index_counts = adata.obs['index_1'].value_counts()\n",
    "rt_index_counts.to_csv(\"./pre_processing_figures/data/rt_index_counts.csv\")\n",
    "\n",
    "lig_bc2 = adata.obs['index_2'].value_counts()\n",
    "lig_bc2.to_csv(\"./pre_processing_figures/data/lig_bc2_index_counts.csv\")\n",
    "\n",
    "lig_bc3 = adata.obs['index_3'].value_counts()\n",
    "lig_bc2.to_csv(\"./pre_processing_figures/data/lig_bc_3_index_counts.csv\")\n"
   ]
  },
  {
   "cell_type": "code",
   "execution_count": 19,
   "metadata": {},
   "outputs": [
    {
     "data": {
      "text/plain": [
       "sample_id\n",
       "EGF IGF1          50709\n",
       "GFs MEKi PI3Ki    23021\n",
       "Control           19867\n",
       "Name: count, dtype: int64"
      ]
     },
     "execution_count": 19,
     "metadata": {},
     "output_type": "execute_result"
    }
   ],
   "source": [
    "# Check abundance of sample_ID cell barcodes\n",
    "adata.obs['sample_id'].value_counts()"
   ]
  },
  {
   "cell_type": "markdown",
   "metadata": {},
   "source": [
    "### Merge PolyA and rHex barcodes"
   ]
  },
  {
   "cell_type": "code",
   "execution_count": 20,
   "metadata": {
    "id": "JSLAC2lF_B1N"
   },
   "outputs": [
    {
     "name": "stderr",
     "output_type": "stream",
     "text": [
      "/var/folders/rk/05jx38f57w75573dgxbjlrm40000gn/T/ipykernel_66471/2059597726.py:14: FutureWarning: Series.__getitem__ treating keys as positions is deprecated. In a future version, integer keys will always be treated as labels (consistent with DataFrame behavior). To access a value by position, use `ser.iloc[pos]`\n",
      "  difference = selection[\"index_1\"][0] - selection[\"index_1\"][1]\n",
      "/opt/miniconda3/envs/scanpy_v1/lib/python3.10/site-packages/scipy/sparse/_index.py:136: SparseEfficiencyWarning: Changing the sparsity structure of a csr_matrix is expensive. lil_matrix is more efficient.\n",
      "  self._set_arrayXarray_sparse(i, j, x)\n"
     ]
    }
   ],
   "source": [
    "\n",
    "# Get unique barcodes and their counts. barcodes_and_counts store both the sequence and the count for each unique barcode.\n",
    "barcodes_and_counts = np.unique(adata.obs[\"barcode_2_3\"].values, return_counts = True)\n",
    "\n",
    "# Store barcodes sequences with 2 counts in adata\n",
    "two_counts_barcodes_2_3 = barcodes_and_counts[0][barcodes_and_counts[1] == 2]\n",
    "\n",
    "# Initialize list to store pairs of barcodes with ID difference different to 48\n",
    "unmatched_barcodes = []\n",
    "\n",
    "# Iterate through barcodes with 2 counts\n",
    "for barcode in two_counts_barcodes_2_3:\n",
    "  # Select rows from adata that have the corresponding barcode_2_3. Calculate index difference\n",
    "  selection = adata.obs[adata.obs[\"barcode_2_3\"].values == barcode]\n",
    "  difference = selection[\"index_1\"][0] - selection[\"index_1\"][1]\n",
    "\n",
    "  # We want to remove the barcode with the higher index. Check ID difference and input each barcode to the combine_distinct_barcode function in the right order.\n",
    "  if difference == -48:\n",
    "    adata = merge_rt_barcodes(adata, selection.index[0], selection.index[1])\n",
    "  elif difference == 48:\n",
    "    adata = merge_rt_barcodes(adata, selection.index[1], selection.index[0])\n"
   ]
  },
  {
   "cell_type": "code",
   "execution_count": 21,
   "metadata": {
    "id": "S0cDhUIj-Q5X"
   },
   "outputs": [],
   "source": [
    "# Store barcodes_2_3 with multiple counts\n",
    "multiple_counts_barcodes_2_3 = barcodes_and_counts[0][barcodes_and_counts[1] > 2]\n",
    "\n",
    "# Loop through the multimatch barcodes\n",
    "for barcode in multiple_counts_barcodes_2_3:\n",
    "  index = adata.obs[\"barcode_2_3\"] == barcode\n",
    "  \n",
    "  # Compare this barcode to all other barcodes\n",
    "  matched = pairwise_rt_comparison(adata.obs[index][\"index_1\"].values)\n",
    "\n",
    "  # Cerate Matching list\n",
    "  matching_barcodes = []\n",
    "  \n",
    "  # Loop through the RT index pairs barcodes\n",
    "  for pair in matched:\n",
    "\n",
    "    # Add index sequences of paired cell barcodes\n",
    "    matching_barcodes.append(adata.obs[index].index.values[pair])\n",
    "\n",
    "  # Combine barcodes\n",
    "  for matching_barcode in matching_barcodes:\n",
    "    adata = merge_rt_barcodes(adata, matching_barcode[0], matching_barcode[1])\n",
    "\n"
   ]
  },
  {
   "cell_type": "code",
   "execution_count": 22,
   "metadata": {},
   "outputs": [],
   "source": [
    "rt_index_counts = adata.obs['index_1'].value_counts()\n",
    "rt_index_counts.to_csv(\"split_adt/rt_index_counts_merged.csv\")\n"
   ]
  },
  {
   "cell_type": "code",
   "execution_count": 23,
   "metadata": {},
   "outputs": [],
   "source": [
    "sc.pp.calculate_qc_metrics(adata, percent_top=None, log1p=True, inplace=True)"
   ]
  },
  {
   "cell_type": "code",
   "execution_count": 24,
   "metadata": {},
   "outputs": [],
   "source": [
    "# Save the adata\n",
    "adata.write('ex0003_adt_merged_scanpy.h5ad')"
   ]
  }
 ],
 "metadata": {
  "accelerator": "GPU",
  "colab": {
   "collapsed_sections": [],
   "name": "split-seq_adt.ipynb",
   "provenance": [],
   "toc_visible": true
  },
  "kernelspec": {
   "display_name": "Python 3.10.5 ('scanpy_v1')",
   "language": "python",
   "name": "python3"
  },
  "language_info": {
   "codemirror_mode": {
    "name": "ipython",
    "version": 3
   },
   "file_extension": ".py",
   "mimetype": "text/x-python",
   "name": "python",
   "nbconvert_exporter": "python",
   "pygments_lexer": "ipython3",
   "version": "3.10.9"
  },
  "vscode": {
   "interpreter": {
    "hash": "3a89b950eb47d00185ca4cabfdcf398a7318f3a27f9b73dc976580ca743d59d8"
   }
  }
 },
 "nbformat": 4,
 "nbformat_minor": 4
}
